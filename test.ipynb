{
 "cells": [
  {
   "cell_type": "markdown",
   "metadata": {},
   "source": [
    "## Testing Library Code\n",
    "\n",
    "- Data Load\n",
    "- Data Clean for clustering - Return information on what features can be used for what type clustering\n",
    " - \n",
    "  --- IE : col1-col3 : type decimal type integer col4-col5 : text \n",
    "- Run Random Clustering Techniques With Params\n"
   ]
  },
  {
   "cell_type": "markdown",
   "metadata": {},
   "source": [
    "## Cleanup - generic\n",
    "\n"
   ]
  },
  {
   "cell_type": "code",
   "execution_count": 1,
   "metadata": {},
   "outputs": [
    {
     "name": "stdout",
     "output_type": "stream",
     "text": [
      "Requirement already satisfied: numpy in c:\\users\\joshc\\appdata\\local\\programs\\python\\python311\\lib\\site-packages (1.25.1)\n"
     ]
    },
    {
     "name": "stderr",
     "output_type": "stream",
     "text": [
      "\n",
      "[notice] A new release of pip is available: 23.2.1 -> 24.0\n",
      "[notice] To update, run: python.exe -m pip install --upgrade pip\n"
     ]
    }
   ],
   "source": [
    "!pip3 install numpy"
   ]
  },
  {
   "cell_type": "code",
   "execution_count": 1,
   "metadata": {},
   "outputs": [],
   "source": [
    "import numbers\n",
    "import pandas as pd\n",
    "import numpy as np\n",
    "\n",
    "\n",
    "\n",
    "def find_null_columns(df):\n",
    "    \n",
    "    null_cols = []\n",
    "    \n",
    "    return null_cols\n",
    "\n",
    "\n",
    "\n",
    "def check_type_numeric(col, df):\n",
    "    if isinstance(df[col].idx[0], numbers.Number):\n",
    "        return True\n",
    "    else:\n",
    "        return False\n",
    "        \n",
    "\n",
    "\n",
    "def find_null_indexes(series):\n",
    "    \n",
    "    idx_list = []\n",
    "    \n",
    "    return idx_list\n",
    "\n",
    "\n",
    "def check_categories_by_threshold(df, col, threshold):\n",
    "    \n",
    "    if df[col].unique() <= threshold:\n",
    "        return True\n",
    "    else:\n",
    "        return False\n",
    "\n",
    "# def reorganise_features(df):\n",
    "#     df = \n",
    "\n",
    "\n",
    "def __col_clean(df, cols, cat_threshold):\n",
    "    \n",
    "    nrows = df.shape[0]\n",
    "    \n",
    "    for col in cols:\n",
    "        numeric = []\n",
    "        strings = []\n",
    "        dummies = []\n",
    "        if check_type_numeric(col, df):\n",
    "            df[col].fillna(df[col].mean())\n",
    "            numeric.append(col)\n",
    "        else:\n",
    "            df = df[df[col] != np.nan | df[col] != None | df[col] != np.NaN]\n",
    "            if check_categories_by_threshold(df, col, cat_threshold):\n",
    "                dummies.append(col)\n",
    "                df = pd.get_dummies(df, columns=[col, ])\n",
    "                for cola in df.columns:\n",
    "                    if col + '_value' in cola:\n",
    "                        numeric.append(col)\n",
    "            else:\n",
    "                strings.append(col)\n",
    "                df[col] = df[col].str.lower()\n",
    "                              \n",
    "    dropped_rows = nrows -  df.shape[0]\n",
    "    \n",
    "    return (df, {\n",
    "        \"numeric_columns\" : numeric.length(),\n",
    "        \"string_columns\" : strings.length(),\n",
    "        \"dropped_rows\" : dropped_rows,\n",
    "        \"dummy_columns\" : dummies,\n",
    "        \"n_rows\" : nrows\n",
    "        })\n",
    "    \n",
    "    \n",
    "\n",
    "def quick_clean(df, cat_threshold=3):\n",
    "    \n",
    "    cols = df.columns\n",
    "   \n",
    "    cleaned = __col_clean(df, cols, cat_threshold)\n",
    "    \n",
    "    \n",
    "    return cleaned"
   ]
  },
  {
   "cell_type": "code",
   "execution_count": null,
   "metadata": {},
   "outputs": [],
   "source": [
    "def quick_clean_time_series(df, ts_columns, cat_threshold=3):\n",
    "    '''\n",
    "    Take input columns for time series, cleans other features and the time series data itself.\n",
    "    ts_columns = time series columns \n",
    "        Ordered - largest interval,..., smallest interval\n",
    "         if incorrectly ordered you will get strange behaviour\n",
    "    cat_threshold = category threshold for one-hot encoding\n",
    "     \n",
    "    '''\n",
    "    cols = df.columns\n",
    "    \n",
    "    for col in ts_columns:\n",
    "        cols.remove(col)\n",
    "        \n",
    "    nrows = df.shape[0]\n",
    "    \n",
    "    cols = df.columns\n",
    "    \n",
    "    ## apply time series transforms\n",
    "   ## apply dataframe transformations based on time-series analysis\n",
    "   # windowing etc.\n",
    "   # clearing missing steps or adding in gap information\n",
    "   \n",
    "   \n",
    "    cleaned = __col_clean(df, cols, cat_threshold)\n",
    "    \n",
    "    \n",
    "    return cleaned\n",
    "    \n",
    "    "
   ]
  }
 ],
 "metadata": {
  "kernelspec": {
   "display_name": "Python 3",
   "language": "python",
   "name": "python3"
  },
  "language_info": {
   "codemirror_mode": {
    "name": "ipython",
    "version": 3
   },
   "file_extension": ".py",
   "mimetype": "text/x-python",
   "name": "python",
   "nbconvert_exporter": "python",
   "pygments_lexer": "ipython3",
   "version": "3.11.5"
  }
 },
 "nbformat": 4,
 "nbformat_minor": 2
}
